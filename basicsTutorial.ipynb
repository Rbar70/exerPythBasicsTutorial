{
 "cells": [
  {
   "cell_type": "markdown",
   "source": [
    "# Python Basics Tutorial\n",
    "\n",
    "Go through the Lean the Basics section at https://www.learnpython.org/\n",
    "Run each code block in a separate cell in this Jupyter Notebook. An easy shortcut is to hit Shift-Enter after entering your code to run the code in the cell and create a new cell below."
   ],
   "metadata": {}
  },
  {
   "cell_type": "code",
   "execution_count": 1,
   "source": [
    "print(\"This line will be printed.\")"
   ],
   "outputs": [
    {
     "output_type": "stream",
     "name": "stdout",
     "text": [
      "This line will be printed.\n"
     ]
    }
   ],
   "metadata": {}
  },
  {
   "cell_type": "code",
   "execution_count": 3,
   "source": [
    "x = 1\r\n",
    "if x == 1:\r\n",
    "       print(\"x is 1.\")"
   ],
   "outputs": [
    {
     "output_type": "stream",
     "name": "stdout",
     "text": [
      "x is 1.\n"
     ]
    }
   ],
   "metadata": {}
  },
  {
   "cell_type": "code",
   "execution_count": 4,
   "source": [
    "print(\"Goodbye, World!\")"
   ],
   "outputs": [
    {
     "output_type": "stream",
     "name": "stdout",
     "text": [
      "Goodbye, World!\n"
     ]
    }
   ],
   "metadata": {}
  },
  {
   "cell_type": "code",
   "execution_count": 6,
   "source": [
    "myint = 7\r\n",
    "print(myint)"
   ],
   "outputs": [
    {
     "output_type": "stream",
     "name": "stdout",
     "text": [
      "7\n"
     ]
    }
   ],
   "metadata": {}
  },
  {
   "cell_type": "code",
   "execution_count": 8,
   "source": [
    "myfloat = 7.0\r\n",
    "print(myfloat)\r\n",
    "myfloat = float(7)\r\n",
    "print(myfloat)"
   ],
   "outputs": [
    {
     "output_type": "stream",
     "name": "stdout",
     "text": [
      "7.0\n",
      "7.0\n"
     ]
    }
   ],
   "metadata": {}
  },
  {
   "cell_type": "code",
   "execution_count": 10,
   "source": [
    "mystring = 'hello,  do you like my hat?'\r\n",
    "print(mystring)\r\n",
    "mystring = \"hello, no I do not like your hat!\"\r\n",
    "print(mystring)"
   ],
   "outputs": [
    {
     "output_type": "stream",
     "name": "stdout",
     "text": [
      "hello,  do you like my hat?\n",
      "hello, no I do not like your hat!\n"
     ]
    }
   ],
   "metadata": {}
  },
  {
   "cell_type": "code",
   "execution_count": 12,
   "source": [
    "mystring = \"Don't worry about apostrophes\"\r\n",
    "print(mystring)"
   ],
   "outputs": [
    {
     "output_type": "stream",
     "name": "stdout",
     "text": [
      "Don't worry about apostrophes\n"
     ]
    }
   ],
   "metadata": {}
  },
  {
   "cell_type": "code",
   "execution_count": 16,
   "source": [
    "one = 1\r\n",
    "two = 2\r\n",
    "three = one + two\r\n",
    "print(three)\r\n",
    "print(two)\r\n",
    "print(one)\r\n",
    "\r\n",
    "hello = \"hello\"\r\n",
    "world = \"world\"\r\n",
    "h = \"hello\"\r\n",
    "w = \"world\"\r\n",
    "helloworld = hello + \" \" + world\r\n",
    "worldhello = w + \" \" + h\r\n",
    "print(helloworld)\r\n",
    "print(worldhello)"
   ],
   "outputs": [
    {
     "output_type": "stream",
     "name": "stdout",
     "text": [
      "3\n",
      "2\n",
      "1\n",
      "hello world\n",
      "world hello\n"
     ]
    }
   ],
   "metadata": {}
  },
  {
   "cell_type": "code",
   "execution_count": 18,
   "source": [
    "a, b = 3, 4\r\n",
    "print(a,b)"
   ],
   "outputs": [
    {
     "output_type": "stream",
     "name": "stdout",
     "text": [
      "3 4\n"
     ]
    }
   ],
   "metadata": {}
  },
  {
   "cell_type": "code",
   "execution_count": 20,
   "source": [
    "one = 1\r\n",
    "two = 2\r\n",
    "hello = \"hello\"\r\n",
    "\r\n",
    "print(one + two + hello)"
   ],
   "outputs": [
    {
     "output_type": "error",
     "ename": "TypeError",
     "evalue": "unsupported operand type(s) for +: 'int' and 'str'",
     "traceback": [
      "\u001b[1;31m---------------------------------------------------------------------------\u001b[0m",
      "\u001b[1;31mTypeError\u001b[0m                                 Traceback (most recent call last)",
      "\u001b[1;32m~\\AppData\\Local\\Temp/ipykernel_22824/2637877339.py\u001b[0m in \u001b[0;36m<module>\u001b[1;34m\u001b[0m\n\u001b[0;32m      3\u001b[0m \u001b[0mhello\u001b[0m \u001b[1;33m=\u001b[0m \u001b[1;34m\"hello\"\u001b[0m\u001b[1;33m\u001b[0m\u001b[1;33m\u001b[0m\u001b[0m\n\u001b[0;32m      4\u001b[0m \u001b[1;33m\u001b[0m\u001b[0m\n\u001b[1;32m----> 5\u001b[1;33m \u001b[0mprint\u001b[0m\u001b[1;33m(\u001b[0m\u001b[0mone\u001b[0m \u001b[1;33m+\u001b[0m \u001b[0mtwo\u001b[0m \u001b[1;33m+\u001b[0m \u001b[0mhello\u001b[0m\u001b[1;33m)\u001b[0m\u001b[1;33m\u001b[0m\u001b[1;33m\u001b[0m\u001b[0m\n\u001b[0m",
      "\u001b[1;31mTypeError\u001b[0m: unsupported operand type(s) for +: 'int' and 'str'"
     ]
    }
   ],
   "metadata": {}
  },
  {
   "cell_type": "code",
   "execution_count": 23,
   "source": [
    "#fixed\r\n",
    "one = \"1\"\r\n",
    "two = \"2\"\r\n",
    "hello = \"hello\"\r\n",
    "\r\n",
    "print(one + \" \" + two + \" \" + hello)"
   ],
   "outputs": [
    {
     "output_type": "stream",
     "name": "stdout",
     "text": [
      "1 2 hello\n"
     ]
    }
   ],
   "metadata": {}
  },
  {
   "cell_type": "code",
   "execution_count": 25,
   "source": [
    "# change this code\r\n",
    "mystring = \"hello\"\r\n",
    "myfloat = 10.0\r\n",
    "myint = 20\r\n",
    "\r\n",
    "# testing code\r\n",
    "if mystring == \"hello\":\r\n",
    "    print(\"String: %s\" % mystring)\r\n",
    "if isinstance(myfloat, float) and myfloat == 10.0:\r\n",
    "    print(\"Float: %f\" % myfloat)\r\n",
    "if isinstance(myint, int) and myint == 20:\r\n",
    "    print(\"Integer: %d\" % myint)"
   ],
   "outputs": [
    {
     "output_type": "stream",
     "name": "stdout",
     "text": [
      "String: hello\n",
      "Float: 10.000000\n",
      "Integer: 20\n"
     ]
    }
   ],
   "metadata": {}
  },
  {
   "cell_type": "code",
   "execution_count": 26,
   "source": [
    "mylist = []\r\n",
    "mylist.append(1)\r\n",
    "mylist.append(2)\r\n",
    "mylist.append(3)\r\n",
    "print(mylist[0]) # prints 1\r\n",
    "print(mylist[1]) # prints 2\r\n",
    "print(mylist[2]) # prints 3\r\n",
    "\r\n",
    "# prints out 1,2,3\r\n",
    "for x in mylist:\r\n",
    "    print(x)"
   ],
   "outputs": [
    {
     "output_type": "stream",
     "name": "stdout",
     "text": [
      "1\n",
      "2\n",
      "3\n",
      "1\n",
      "2\n",
      "3\n"
     ]
    }
   ],
   "metadata": {}
  },
  {
   "cell_type": "code",
   "execution_count": 28,
   "source": [
    "mylist = [1,2,3]\r\n",
    "print(mylist[10])"
   ],
   "outputs": [
    {
     "output_type": "error",
     "ename": "IndexError",
     "evalue": "list index out of range",
     "traceback": [
      "\u001b[1;31m---------------------------------------------------------------------------\u001b[0m",
      "\u001b[1;31mIndexError\u001b[0m                                Traceback (most recent call last)",
      "\u001b[1;32m~\\AppData\\Local\\Temp/ipykernel_22824/36674200.py\u001b[0m in \u001b[0;36m<module>\u001b[1;34m\u001b[0m\n\u001b[0;32m      1\u001b[0m \u001b[0mmylist\u001b[0m \u001b[1;33m=\u001b[0m \u001b[1;33m[\u001b[0m\u001b[1;36m1\u001b[0m\u001b[1;33m,\u001b[0m\u001b[1;36m2\u001b[0m\u001b[1;33m,\u001b[0m\u001b[1;36m3\u001b[0m\u001b[1;33m]\u001b[0m\u001b[1;33m\u001b[0m\u001b[1;33m\u001b[0m\u001b[0m\n\u001b[1;32m----> 2\u001b[1;33m \u001b[0mprint\u001b[0m\u001b[1;33m(\u001b[0m\u001b[0mmylist\u001b[0m\u001b[1;33m[\u001b[0m\u001b[1;36m10\u001b[0m\u001b[1;33m]\u001b[0m\u001b[1;33m)\u001b[0m\u001b[1;33m\u001b[0m\u001b[1;33m\u001b[0m\u001b[0m\n\u001b[0m",
      "\u001b[1;31mIndexError\u001b[0m: list index out of range"
     ]
    }
   ],
   "metadata": {}
  },
  {
   "cell_type": "code",
   "execution_count": 30,
   "source": [
    "#fixed need 11 numbers in list because of 0 spot\r\n",
    "mylist = [1,2,3,4,5,6,7,8,9,10,11]\r\n",
    "print(mylist[10])\r\n"
   ],
   "outputs": [
    {
     "output_type": "stream",
     "name": "stdout",
     "text": [
      "11\n"
     ]
    }
   ],
   "metadata": {}
  },
  {
   "cell_type": "code",
   "execution_count": 38,
   "source": [
    "numbers = [1,2,3]\r\n",
    "strings = [hello, world]\r\n",
    "names = [\"John\", \"Eric\", \"Jessica\"]\r\n",
    "\r\n",
    "# write your code here\r\n",
    "second_name = names[1]\r\n",
    "\r\n",
    "\r\n",
    "# this code should write out the filled arrays and the second name in the names list (Eric).\r\n",
    "print(numbers)\r\n",
    "print(strings)\r\n",
    "print(second_name)"
   ],
   "outputs": [
    {
     "output_type": "stream",
     "name": "stdout",
     "text": [
      "[1, 2, 3]\n",
      "['hello', 'world']\n",
      "Eric\n"
     ]
    }
   ],
   "metadata": {}
  },
  {
   "cell_type": "code",
   "execution_count": 58,
   "source": [
    "number = 1 + 2 * 3 / 4.0\r\n",
    "print(number)"
   ],
   "outputs": [
    {
     "output_type": "stream",
     "name": "stdout",
     "text": [
      "2.5\n"
     ]
    }
   ],
   "metadata": {}
  },
  {
   "cell_type": "code",
   "execution_count": 59,
   "source": [
    "remainder = 11 % 3\r\n",
    "print(remainder)"
   ],
   "outputs": [
    {
     "output_type": "stream",
     "name": "stdout",
     "text": [
      "2\n"
     ]
    }
   ],
   "metadata": {}
  },
  {
   "cell_type": "code",
   "execution_count": 60,
   "source": [
    "remainder = 27 % 5\r\n",
    "print(remainder)"
   ],
   "outputs": [
    {
     "output_type": "stream",
     "name": "stdout",
     "text": [
      "2\n"
     ]
    }
   ],
   "metadata": {}
  },
  {
   "cell_type": "code",
   "execution_count": 61,
   "source": [
    "squared = 7 ** 2\r\n",
    "cubed = 2 ** 3\r\n",
    "hexed = 2 ** 6\r\n",
    "print(squared)\r\n",
    "print(cubed)\r\n",
    "print(hexed)"
   ],
   "outputs": [
    {
     "output_type": "stream",
     "name": "stdout",
     "text": [
      "49\n",
      "8\n",
      "64\n"
     ]
    }
   ],
   "metadata": {}
  },
  {
   "cell_type": "code",
   "execution_count": 62,
   "source": [
    "helloworld = \"hello\" + \" \" + \"world\"\r\n",
    "print(helloworld)"
   ],
   "outputs": [
    {
     "output_type": "stream",
     "name": "stdout",
     "text": [
      "hello world\n"
     ]
    }
   ],
   "metadata": {}
  },
  {
   "cell_type": "code",
   "execution_count": 66,
   "source": [
    "lotsofhellos = \"hello \" * 10\r\n",
    "print(lotsofhellos)\r\n",
    "#I puit the spaces in there to make it pretty"
   ],
   "outputs": [
    {
     "output_type": "stream",
     "name": "stdout",
     "text": [
      "hello hello hello hello hello hello hello hello hello hello \n"
     ]
    }
   ],
   "metadata": {}
  },
  {
   "cell_type": "code",
   "execution_count": 67,
   "source": [
    "even_numbers = [2,4,6,8]\r\n",
    "odd_numbers = [1,3,5,7]\r\n",
    "all_numbers = odd_numbers + even_numbers\r\n",
    "print(all_numbers)"
   ],
   "outputs": [
    {
     "output_type": "stream",
     "name": "stdout",
     "text": [
      "[1, 3, 5, 7, 2, 4, 6, 8]\n"
     ]
    }
   ],
   "metadata": {}
  },
  {
   "cell_type": "code",
   "execution_count": 68,
   "source": [
    "print([1,2,3] * 3)"
   ],
   "outputs": [
    {
     "output_type": "stream",
     "name": "stdout",
     "text": [
      "[1, 2, 3, 1, 2, 3, 1, 2, 3]\n"
     ]
    }
   ],
   "metadata": {}
  },
  {
   "cell_type": "code",
   "execution_count": 75,
   "source": [
    "x = object()\r\n",
    "y = object()\r\n",
    "\r\n",
    "# TODO: change this code\r\n",
    "x_list = [x] * 10\r\n",
    "y_list = [y] * 10\r\n",
    "big_list = x_list + y_list\r\n",
    "\r\n",
    "print(\"x_list contains %d objects\" % len(x_list))\r\n",
    "print(\"y_list contains %d objects\" % len(y_list))\r\n",
    "print(\"big_list contains %d objects\" % len(big_list))\r\n",
    "\r\n",
    "# testing code\r\n",
    "if x_list.count(x) == 10 and y_list.count(y) == 10:\r\n",
    "    print(\"Almost there...\")\r\n",
    "if big_list.count(x) == 10 and big_list.count(y) == 10:\r\n",
    "    print(\"Great!\")"
   ],
   "outputs": [
    {
     "output_type": "stream",
     "name": "stdout",
     "text": [
      "x_list contains 10 objects\n",
      "y_list contains 10 objects\n",
      "big_list contains 20 objects\n",
      "Almost there...\n",
      "Great!\n"
     ]
    }
   ],
   "metadata": {}
  },
  {
   "cell_type": "code",
   "execution_count": 80,
   "source": [
    "\r\n",
    "name = \"John\"\r\n",
    "print(\"Hello, %s!\" % name)"
   ],
   "outputs": [
    {
     "output_type": "stream",
     "name": "stdout",
     "text": [
      "Hello, John!\n"
     ]
    }
   ],
   "metadata": {}
  },
  {
   "cell_type": "code",
   "execution_count": 81,
   "source": [
    "\r\n",
    "name = \"John\"\r\n",
    "age = 23\r\n",
    "print(\"%s is %d years old.\" % (name, age))"
   ],
   "outputs": [
    {
     "output_type": "stream",
     "name": "stdout",
     "text": [
      "John is 23 years old.\n"
     ]
    }
   ],
   "metadata": {}
  },
  {
   "cell_type": "code",
   "execution_count": 82,
   "source": [
    "\r\n",
    "mylist = [1,2,3]\r\n",
    "print(\"A list: %s\" % mylist)"
   ],
   "outputs": [
    {
     "output_type": "stream",
     "name": "stdout",
     "text": [
      "A list: [1, 2, 3]\n"
     ]
    }
   ],
   "metadata": {}
  },
  {
   "cell_type": "code",
   "execution_count": 116,
   "source": [
    "#good\r\n",
    "data = (\"John\", \"Doe\", 53.44)\r\n",
    "format_string = \"Hello\"\r\n",
    "\r\n",
    "print (\"%s %s %s. Your current balance is $%.2f \" %(format_string,data[0],data[1],data[2]))"
   ],
   "outputs": [
    {
     "output_type": "stream",
     "name": "stdout",
     "text": [
      "Hello John Doe. Your current balance is $53.44 \n"
     ]
    }
   ],
   "metadata": {}
  },
  {
   "cell_type": "code",
   "execution_count": 141,
   "source": [
    "#Better\r\n",
    "data = (\"John\", \"Doe\", 53.44)\r\n",
    "format_string = (\"Hello\", \"Your current blance is $\")\r\n",
    "\r\n",
    "print (\"%s %s %s %s%.2f \" %(format_string[0],data[0],data[1],format_string [1],data[2]))"
   ],
   "outputs": [
    {
     "output_type": "stream",
     "name": "stdout",
     "text": [
      "Hello John Doe Your current blance is $53.44 \n"
     ]
    }
   ],
   "metadata": {}
  },
  {
   "cell_type": "code",
   "execution_count": 130,
   "source": [
    "astring = \"Hello world!\"\r\n",
    "astring2 = 'Hello world!'"
   ],
   "outputs": [],
   "metadata": {}
  },
  {
   "cell_type": "code",
   "execution_count": 131,
   "source": [
    "astring = \"Hello world!\"\r\n",
    "print(\"single quotes are ' '\")\r\n",
    "\r\n",
    "print(len(astring))"
   ],
   "outputs": [
    {
     "output_type": "stream",
     "name": "stdout",
     "text": [
      "single quotes are ' '\n",
      "12\n"
     ]
    }
   ],
   "metadata": {}
  },
  {
   "cell_type": "code",
   "execution_count": 137,
   "source": [
    "astring = \"Hello world!\"\r\n",
    "print(astring.index(\"o\"))"
   ],
   "outputs": [
    {
     "output_type": "stream",
     "name": "stdout",
     "text": [
      "4\n"
     ]
    }
   ],
   "metadata": {}
  },
  {
   "cell_type": "code",
   "execution_count": 143,
   "source": [
    "astring = \"Hello world!\"\r\n",
    "print(astring.count(\"l\"))"
   ],
   "outputs": [
    {
     "output_type": "stream",
     "name": "stdout",
     "text": [
      "3\n"
     ]
    }
   ],
   "metadata": {}
  },
  {
   "cell_type": "code",
   "execution_count": 144,
   "source": [
    "astring = \"Hello world!\"\r\n",
    "print(astring[3:7])"
   ],
   "outputs": [
    {
     "output_type": "stream",
     "name": "stdout",
     "text": [
      "lo w\n"
     ]
    }
   ],
   "metadata": {}
  },
  {
   "cell_type": "code",
   "execution_count": 147,
   "source": [
    "astring = \"Hello world!\"\r\n",
    "print(astring[-8])"
   ],
   "outputs": [
    {
     "output_type": "stream",
     "name": "stdout",
     "text": [
      "o\n"
     ]
    }
   ],
   "metadata": {}
  },
  {
   "cell_type": "code",
   "execution_count": 149,
   "source": [
    "astring = \"Hello world!\"\r\n",
    "print(astring[3:7])\r\n",
    "print(astring[3:7:2])"
   ],
   "outputs": [
    {
     "output_type": "stream",
     "name": "stdout",
     "text": [
      "lo w\n",
      "l \n"
     ]
    }
   ],
   "metadata": {}
  },
  {
   "cell_type": "code",
   "execution_count": 150,
   "source": [
    "astring = \"Hello world!\"\r\n",
    "print(astring[::-1])"
   ],
   "outputs": [
    {
     "output_type": "stream",
     "name": "stdout",
     "text": [
      "!dlrow olleH\n"
     ]
    }
   ],
   "metadata": {}
  },
  {
   "cell_type": "code",
   "execution_count": 151,
   "source": [
    "astring = \"Hello world!\"\r\n",
    "print(astring[::-2])"
   ],
   "outputs": [
    {
     "output_type": "stream",
     "name": "stdout",
     "text": [
      "!lo le\n"
     ]
    }
   ],
   "metadata": {}
  },
  {
   "cell_type": "code",
   "execution_count": 154,
   "source": [
    "astring = \"Hello world!\"\r\n",
    "print(astring.startswith(\"Hello\"))\r\n",
    "print(astring.endswith(\"world!\"))"
   ],
   "outputs": [
    {
     "output_type": "stream",
     "name": "stdout",
     "text": [
      "True\n",
      "True\n"
     ]
    }
   ],
   "metadata": {}
  },
  {
   "cell_type": "code",
   "execution_count": 155,
   "source": [
    "astring = \"Hello world!\"\r\n",
    "afewwords = astring.split(\" \")"
   ],
   "outputs": [],
   "metadata": {}
  },
  {
   "cell_type": "code",
   "execution_count": 156,
   "source": [
    "astring = \"Hello world!\"\r\n",
    "afewwords = astring.split(\" \")\r\n",
    "print (afewwords)"
   ],
   "outputs": [
    {
     "output_type": "stream",
     "name": "stdout",
     "text": [
      "['Hello', 'world!']\n"
     ]
    }
   ],
   "metadata": {}
  },
  {
   "cell_type": "code",
   "execution_count": 170,
   "source": [
    "s = \"Robert was here and!\"\r\n",
    "\r\n",
    "print(\"Length of s = %d\" % len(s))\r\n",
    "\r\n",
    "# First occurrence of \"a\" should be at index 8\r\n",
    "print(\"The first occurrence of the letter a = %d\" % s.index(\"a\"))\r\n",
    "\r\n",
    "# Number of a's should be 2\r\n",
    "print(\"a occurs %d times\" % s.count(\"a\"))\r\n",
    "\r\n",
    "# Slicing the string into bits\r\n",
    "print(\"The first five characters are '%s'\" % s[:5]) # Start to 5\r\n",
    "print(\"The next five characters are '%s'\" % s[5:10]) # 5 to 10\r\n",
    "print(\"The thirteenth character is '%s'\" % s[12]) # Just number 12\r\n",
    "print(\"The characters with odd index are '%s'\" %s[1::2]) #(0-based indexing)\r\n",
    "print(\"The last five characters are '%s'\" % s[-5:]) # 5th-from-last to end\r\n",
    "\r\n",
    "# Convert everything to uppercase\r\n",
    "print(\"String in uppercase: %s\" % s.upper())\r\n",
    "\r\n",
    "# Convert everything to lowercase\r\n",
    "print(\"String in lowercase: %s\" % s.lower())\r\n",
    "\r\n",
    "# Check how a string starts\r\n",
    "if s.startswith(\"Str\"):\r\n",
    "    print(\"String starts with 'Str'. Good!\")\r\n",
    "\r\n",
    "# Check how a string ends\r\n",
    "if s.endswith(\"ome!\"):\r\n",
    "    print(\"String ends with 'ome!'. Good!\")\r\n",
    "\r\n",
    "# Split the string into three separate strings,\r\n",
    "# each containing only a word\r\n",
    "print(\"Split the words of the string: %s\" % s.split(\" \"))"
   ],
   "outputs": [
    {
     "output_type": "stream",
     "name": "stdout",
     "text": [
      "Length of s = 20\n",
      "The first occurrence of the letter a = 8\n",
      "a occurs 2 times\n",
      "The first five characters are 'Rober'\n",
      "The next five characters are 't was'\n",
      "The thirteenth character is 'e'\n",
      "The characters with odd index are 'oetwshr n!'\n",
      "The last five characters are ' and!'\n",
      "String in uppercase: ROBERT WAS HERE AND!\n",
      "String in lowercase: robert was here and!\n",
      "Split the words of the string: ['Robert', 'was', 'here', 'and!']\n"
     ]
    }
   ],
   "metadata": {}
  },
  {
   "cell_type": "code",
   "execution_count": 171,
   "source": [
    "primes = [2, 3, 5, 7]\r\n",
    "for prime in primes:\r\n",
    "    print(prime)"
   ],
   "outputs": [
    {
     "output_type": "stream",
     "name": "stdout",
     "text": [
      "2\n",
      "3\n",
      "5\n",
      "7\n"
     ]
    }
   ],
   "metadata": {}
  },
  {
   "cell_type": "code",
   "execution_count": 172,
   "source": [
    "# Prints out the numbers 0,1,2,3,4\r\n",
    "for x in range(5):\r\n",
    "    print(x)\r\n",
    "\r\n",
    "# Prints out 3,4,5\r\n",
    "for x in range(3, 6):\r\n",
    "    print(x)\r\n",
    "\r\n",
    "# Prints out 3,5,7\r\n",
    "for x in range(3, 8, 2):\r\n",
    "    print(x)"
   ],
   "outputs": [
    {
     "output_type": "stream",
     "name": "stdout",
     "text": [
      "0\n",
      "1\n",
      "2\n",
      "3\n",
      "4\n",
      "3\n",
      "4\n",
      "5\n",
      "3\n",
      "5\n",
      "7\n"
     ]
    }
   ],
   "metadata": {}
  },
  {
   "cell_type": "code",
   "execution_count": 174,
   "source": [
    "# Prints out 0,1,2,3,4\r\n",
    "\r\n",
    "count = 0\r\n",
    "while count < 5:\r\n",
    "    print(count)\r\n",
    "    count += 1  # This is the same as count = count + 1"
   ],
   "outputs": [
    {
     "output_type": "stream",
     "name": "stdout",
     "text": [
      "0\n",
      "1\n",
      "2\n",
      "3\n",
      "4\n"
     ]
    }
   ],
   "metadata": {}
  },
  {
   "cell_type": "code",
   "execution_count": 175,
   "source": [
    "# Prints out 0,1,2,3,4\r\n",
    "\r\n",
    "count = 0\r\n",
    "while True:\r\n",
    "    print(count)\r\n",
    "    count += 1\r\n",
    "    if count >= 5:\r\n",
    "        break\r\n",
    "\r\n",
    "# Prints out only odd numbers - 1,3,5,7,9\r\n",
    "for x in range(10):\r\n",
    "    # Check if x is even\r\n",
    "    if x % 2 == 0:\r\n",
    "        continue\r\n",
    "    print(x)"
   ],
   "outputs": [
    {
     "output_type": "stream",
     "name": "stdout",
     "text": [
      "0\n",
      "1\n",
      "2\n",
      "3\n",
      "4\n",
      "1\n",
      "3\n",
      "5\n",
      "7\n",
      "9\n"
     ]
    }
   ],
   "metadata": {}
  },
  {
   "cell_type": "code",
   "execution_count": 178,
   "source": [
    "# Prints out 0,1,2,3,4 and then it prints \"count value reached 5\"\r\n",
    "\r\n",
    "count=0\r\n",
    "while(count<5):\r\n",
    "    print(count)\r\n",
    "    count +=1\r\n",
    "else:\r\n",
    "    print(\"count value reached %d\" %(count))\r\n",
    "\r\n",
    "# Prints out 1,2,3,4\r\n",
    "for i in range(1, 10):\r\n",
    "    if(i%5==0):\r\n",
    "        break\r\n",
    "    print(i)\r\n",
    "else:\r\n",
    "    print(\"this is not printed because for loop is terminated because of break but not due to fail in condition\")"
   ],
   "outputs": [
    {
     "output_type": "stream",
     "name": "stdout",
     "text": [
      "0\n",
      "1\n",
      "2\n",
      "3\n",
      "4\n",
      "count value reached 5\n",
      "1\n",
      "2\n",
      "3\n",
      "4\n"
     ]
    }
   ],
   "metadata": {}
  },
  {
   "cell_type": "code",
   "execution_count": 181,
   "source": [
    "numbers = [\r\n",
    "    951, 402, 984, 651, 360, 69, 408, 319, 601, 485, 980, 507, 725, 547, 544,\r\n",
    "    615, 83, 165, 141, 501, 263, 617, 865, 575, 219, 390, 984, 592, 236, 105, 942, 941,\r\n",
    "    386, 462, 47, 418, 907, 344, 236, 375, 823, 566, 597, 978, 328, 615, 953, 345,\r\n",
    "    399, 162, 758, 219, 918, 237, 412, 566, 826, 248, 866, 950, 626, 949, 687, 217,\r\n",
    "    815, 67, 104, 58, 512, 24, 892, 894, 767, 553, 81, 379, 843, 831, 445, 742, 717,\r\n",
    "    958, 609, 842, 451, 688, 753, 854, 685, 93, 857, 440, 380, 126, 721, 328, 753, 470,\r\n",
    "    743, 527\r\n",
    "]\r\n",
    "\r\n",
    "for number in numbers:\r\n",
    "    if number == 237:\r\n",
    "        break\r\n",
    "\r\n",
    "    if number % 2 == 1:\r\n",
    "        continue\r\n",
    "\r\n",
    "    print(number)"
   ],
   "outputs": [
    {
     "output_type": "stream",
     "name": "stdout",
     "text": [
      "402\n",
      "984\n",
      "360\n",
      "408\n",
      "980\n",
      "544\n",
      "390\n",
      "984\n",
      "592\n",
      "236\n",
      "942\n",
      "386\n",
      "462\n",
      "418\n",
      "344\n",
      "236\n",
      "566\n",
      "978\n",
      "328\n",
      "162\n",
      "758\n",
      "918\n"
     ]
    }
   ],
   "metadata": {}
  },
  {
   "cell_type": "code",
   "execution_count": 182,
   "source": [
    "block_head:\r\n",
    "    1st block line\r\n",
    "    2nd block line"
   ],
   "outputs": [
    {
     "output_type": "error",
     "ename": "SyntaxError",
     "evalue": "invalid syntax (Temp/ipykernel_22824/1631254410.py, line 1)",
     "traceback": [
      "\u001b[1;36m  File \u001b[1;32m\"C:\\Users\\Robert\\AppData\\Local\\Temp/ipykernel_22824/1631254410.py\"\u001b[1;36m, line \u001b[1;32m1\u001b[0m\n\u001b[1;33m    block_head:\u001b[0m\n\u001b[1;37m               ^\u001b[0m\n\u001b[1;31mSyntaxError\u001b[0m\u001b[1;31m:\u001b[0m invalid syntax\n"
     ]
    }
   ],
   "metadata": {}
  },
  {
   "cell_type": "code",
   "execution_count": 183,
   "source": [
    "def my_function():\r\n",
    "    print(\"Hello From My Function!\")"
   ],
   "outputs": [],
   "metadata": {}
  },
  {
   "cell_type": "code",
   "execution_count": 184,
   "source": [
    "def my_function_with_args(username, greeting):\r\n",
    "    print(\"Hello, %s , From My Function!, I wish you %s\"%(username, greeting))"
   ],
   "outputs": [],
   "metadata": {}
  },
  {
   "cell_type": "code",
   "execution_count": 185,
   "source": [
    "def sum_two_numbers(a, b):\r\n",
    "    return a + b"
   ],
   "outputs": [],
   "metadata": {}
  },
  {
   "cell_type": "code",
   "execution_count": 186,
   "source": [
    "# Define our 3 functions\r\n",
    "def my_function():\r\n",
    "    print(\"Hello From My Function!\")\r\n",
    "\r\n",
    "def my_function_with_args(username, greeting):\r\n",
    "    print(\"Hello, %s, From My Function!, I wish you %s\"%(username, greeting))\r\n",
    "\r\n",
    "def sum_two_numbers(a, b):\r\n",
    "    return a + b\r\n",
    "\r\n",
    "# print(a simple greeting)\r\n",
    "my_function()\r\n",
    "\r\n",
    "#prints - \"Hello, John Doe, From My Function!, I wish you a great year!\"\r\n",
    "my_function_with_args(\"John Doe\", \"a great year!\")\r\n",
    "\r\n",
    "# after this line x will hold the value 3!\r\n",
    "x = sum_two_numbers(1,2)"
   ],
   "outputs": [
    {
     "output_type": "stream",
     "name": "stdout",
     "text": [
      "Hello From My Function!\n",
      "Hello, John Doe, From My Function!, I wish you a great year!\n"
     ]
    }
   ],
   "metadata": {}
  },
  {
   "cell_type": "code",
   "execution_count": 187,
   "source": [
    "# Modify this function to return a list of strings as defined above\r\n",
    "def list_benefits():\r\n",
    "    return \"More organized code\", \"More readable code\", \"Easier code reuse\", \"Allowing programmers to share and connect code together\"\r\n",
    "\r\n",
    "# Modify this function to concatenate to each benefit - \" is a benefit of functions!\"\r\n",
    "def build_sentence(benefit):\r\n",
    "    return \"%s is a benefit of functions!\" % benefit\r\n",
    "\r\n",
    "\r\n",
    "def name_the_benefits_of_functions():\r\n",
    "    list_of_benefits = list_benefits()\r\n",
    "    for benefit in list_of_benefits:\r\n",
    "        print(build_sentence(benefit))\r\n",
    "\r\n",
    "name_the_benefits_of_functions()"
   ],
   "outputs": [
    {
     "output_type": "stream",
     "name": "stdout",
     "text": [
      "More organized code is a benefit of functions!\n",
      "More readable code is a benefit of functions!\n",
      "Easier code reuse is a benefit of functions!\n",
      "Allowing programmers to share and connect code together is a benefit of functions!\n"
     ]
    }
   ],
   "metadata": {}
  },
  {
   "cell_type": "code",
   "execution_count": 188,
   "source": [
    "class MyClass:\r\n",
    "    variable = \"blah\"\r\n",
    "\r\n",
    "    def function(self):\r\n",
    "        print(\"This is a message inside the class.\")"
   ],
   "outputs": [],
   "metadata": {}
  },
  {
   "cell_type": "code",
   "execution_count": 189,
   "source": [
    "class MyClass:\r\n",
    "    variable = \"blah\"\r\n",
    "\r\n",
    "    def function(self):\r\n",
    "        print(\"This is a message inside the class.\")\r\n",
    "\r\n",
    "myobjectx = MyClass()"
   ],
   "outputs": [],
   "metadata": {}
  },
  {
   "cell_type": "code",
   "execution_count": 190,
   "source": [
    "class MyClass:\r\n",
    "    variable = \"blah\"\r\n",
    "\r\n",
    "    def function(self):\r\n",
    "        print(\"This is a message inside the class.\")\r\n",
    "\r\n",
    "myobjectx = MyClass()\r\n",
    "\r\n",
    "myobjectx.variable"
   ],
   "outputs": [
    {
     "output_type": "execute_result",
     "data": {
      "text/plain": [
       "'blah'"
      ]
     },
     "metadata": {},
     "execution_count": 190
    }
   ],
   "metadata": {}
  },
  {
   "cell_type": "code",
   "execution_count": 191,
   "source": [
    "class MyClass:\r\n",
    "    variable = \"blah\"\r\n",
    "\r\n",
    "    def function(self):\r\n",
    "        print(\"This is a message inside the class.\")\r\n",
    "\r\n",
    "myobjectx = MyClass()\r\n",
    "\r\n",
    "print(myobjectx.variable)"
   ],
   "outputs": [
    {
     "output_type": "stream",
     "name": "stdout",
     "text": [
      "blah\n"
     ]
    }
   ],
   "metadata": {}
  },
  {
   "cell_type": "code",
   "execution_count": 192,
   "source": [
    "class MyClass:\r\n",
    "    variable = \"blah\"\r\n",
    "\r\n",
    "    def function(self):\r\n",
    "        print(\"This is a message inside the class.\")\r\n",
    "\r\n",
    "myobjectx = MyClass()\r\n",
    "myobjecty = MyClass()\r\n",
    "\r\n",
    "myobjecty.variable = \"yackity\"\r\n",
    "\r\n",
    "# Then print out both values\r\n",
    "print(myobjectx.variable)\r\n",
    "print(myobjecty.variable)"
   ],
   "outputs": [
    {
     "output_type": "stream",
     "name": "stdout",
     "text": [
      "blah\n",
      "yackity\n"
     ]
    }
   ],
   "metadata": {}
  },
  {
   "cell_type": "code",
   "execution_count": 193,
   "source": [
    "class MyClass:\r\n",
    "    variable = \"blah\"\r\n",
    "\r\n",
    "    def function(self):\r\n",
    "        print(\"This is a message inside the class.\")\r\n",
    "\r\n",
    "myobjectx = MyClass()\r\n",
    "\r\n",
    "myobjectx.function()"
   ],
   "outputs": [
    {
     "output_type": "stream",
     "name": "stdout",
     "text": [
      "This is a message inside the class.\n"
     ]
    }
   ],
   "metadata": {}
  },
  {
   "cell_type": "code",
   "execution_count": 195,
   "source": [
    "# define the Vehicle class\r\n",
    "class Vehicle:\r\n",
    "    name = \"\"\r\n",
    "    kind = \"car\"\r\n",
    "    color = \"\"\r\n",
    "    value = 100.00\r\n",
    "    def description(self):\r\n",
    "        desc_str = \"%s is a %s %s worth $%.2f.\" % (self.name, self.color, self.kind, self.value)\r\n",
    "        return desc_str\r\n",
    "\r\n",
    "# your code goes here\r\n",
    "car1 = Vehicle()\r\n",
    "car1.name = \"Fer\"\r\n",
    "car1.color = \"red\"\r\n",
    "car1.kind = \"convertible\"\r\n",
    "car1.value = 60000.00\r\n",
    "\r\n",
    "car2 = Vehicle()\r\n",
    "car2.name = \"Jump\"\r\n",
    "car2.color = \"blue\"\r\n",
    "car2.kind = \"van\"\r\n",
    "car2.value = 10000.00\r\n",
    "\r\n",
    "# test code\r\n",
    "print(car1.description())\r\n",
    "print(car2.description())"
   ],
   "outputs": [
    {
     "output_type": "stream",
     "name": "stdout",
     "text": [
      "Fer is a red convertible worth $60000.00.\n",
      "Jump is a blue van worth $10000.00.\n"
     ]
    }
   ],
   "metadata": {}
  },
  {
   "cell_type": "code",
   "execution_count": 196,
   "source": [
    "phonebook = {}\r\n",
    "phonebook[\"John\"] = 938477566\r\n",
    "phonebook[\"Jack\"] = 938377264\r\n",
    "phonebook[\"Jill\"] = 947662781\r\n",
    "print(phonebook)"
   ],
   "outputs": [
    {
     "output_type": "stream",
     "name": "stdout",
     "text": [
      "{'John': 938477566, 'Jack': 938377264, 'Jill': 947662781}\n"
     ]
    }
   ],
   "metadata": {}
  },
  {
   "cell_type": "code",
   "execution_count": 197,
   "source": [
    "phonebook = {\r\n",
    "    \"John\" : 938477566,\r\n",
    "    \"Jack\" : 938377264,\r\n",
    "    \"Jill\" : 947662781\r\n",
    "}\r\n",
    "print(phonebook)"
   ],
   "outputs": [
    {
     "output_type": "stream",
     "name": "stdout",
     "text": [
      "{'John': 938477566, 'Jack': 938377264, 'Jill': 947662781}\n"
     ]
    }
   ],
   "metadata": {}
  },
  {
   "cell_type": "code",
   "execution_count": 198,
   "source": [
    "phonebook = {\"John\" : 938477566,\"Jack\" : 938377264,\"Jill\" : 947662781}\r\n",
    "for name, number in phonebook.items():\r\n",
    "    print(\"Phone number of %s is %d\" % (name, number))"
   ],
   "outputs": [
    {
     "output_type": "stream",
     "name": "stdout",
     "text": [
      "Phone number of John is 938477566\n",
      "Phone number of Jack is 938377264\n",
      "Phone number of Jill is 947662781\n"
     ]
    }
   ],
   "metadata": {}
  },
  {
   "cell_type": "code",
   "execution_count": 199,
   "source": [
    "phonebook = {\r\n",
    "   \"John\" : 938477566,\r\n",
    "   \"Jack\" : 938377264,\r\n",
    "   \"Jill\" : 947662781\r\n",
    "}\r\n",
    "del phonebook[\"John\"]\r\n",
    "print(phonebook)"
   ],
   "outputs": [
    {
     "output_type": "stream",
     "name": "stdout",
     "text": [
      "{'Jack': 938377264, 'Jill': 947662781}\n"
     ]
    }
   ],
   "metadata": {}
  },
  {
   "cell_type": "code",
   "execution_count": 200,
   "source": [
    "phonebook = {\r\n",
    "   \"John\" : 938477566,\r\n",
    "   \"Jack\" : 938377264,\r\n",
    "   \"Jill\" : 947662781\r\n",
    "}\r\n",
    "phonebook.pop(\"John\")\r\n",
    "print(phonebook)"
   ],
   "outputs": [
    {
     "output_type": "stream",
     "name": "stdout",
     "text": [
      "{'Jack': 938377264, 'Jill': 947662781}\n"
     ]
    }
   ],
   "metadata": {}
  },
  {
   "cell_type": "code",
   "execution_count": 204,
   "source": [
    "phonebook = {  \r\n",
    "    \"John\" : 938477566,\r\n",
    "    \"Jack\" : 938377264,\r\n",
    "    \"Jill\" : 947662781\r\n",
    "}  \r\n",
    "del phonebook[\"Jack\"]\r\n",
    "phonebook[\"Jake\"] = 938273443  \r\n",
    "del phonebook[\"Jill\"]  \r\n",
    "\r\n",
    "\r\n",
    "# testing code\r\n",
    "if \"Jake\" in phonebook:  \r\n",
    "    print(\"Jake is listed in the phonebook.\")\r\n",
    "    \r\n",
    "if \"Jill\" not in phonebook:      \r\n",
    "    print(\"Jill is not listed in the phonebook.\")  \r\n",
    "print(phonebook)"
   ],
   "outputs": [
    {
     "output_type": "stream",
     "name": "stdout",
     "text": [
      "Jake is listed in the phonebook.\n",
      "Jill is not listed in the phonebook.\n",
      "{'John': 938477566, 'Jake': 938273443}\n"
     ]
    }
   ],
   "metadata": {}
  },
  {
   "cell_type": "code",
   "execution_count": null,
   "source": [
    "mygame/\r\n",
    "mygame/game.py\r\n",
    "mygame/draw.py"
   ],
   "outputs": [],
   "metadata": {}
  },
  {
   "cell_type": "code",
   "execution_count": null,
   "source": [
    "# game.py\r\n",
    "# import the draw module\r\n",
    "import draw\r\n",
    "\r\n",
    "def play_game():\r\n",
    "    ...\r\n",
    "\r\n",
    "def main():\r\n",
    "    result = play_game()\r\n",
    "    draw.draw_game(result)\r\n",
    "\r\n",
    "# this means that if this script is executed, then \r\n",
    "# main() will be executed\r\n",
    "if __name__ == '__main__':\r\n",
    "    main()"
   ],
   "outputs": [],
   "metadata": {}
  },
  {
   "cell_type": "code",
   "execution_count": null,
   "source": [
    "# draw.py\r\n",
    "\r\n",
    "def draw_game():\r\n",
    "    ...\r\n",
    "\r\n",
    "def clear_screen(screen):"
   ],
   "outputs": [],
   "metadata": {}
  },
  {
   "cell_type": "code",
   "execution_count": null,
   "source": [
    "# game.py\r\n",
    "# import the draw module\r\n",
    "from draw import draw_game\r\n",
    "\r\n",
    "def main():\r\n",
    "    result = play_game()\r\n",
    "    draw_game(result)"
   ],
   "outputs": [],
   "metadata": {}
  },
  {
   "cell_type": "code",
   "execution_count": null,
   "source": [
    "# game.py\r\n",
    "# import the draw module\r\n",
    "from draw import *\r\n",
    "\r\n",
    "def main():\r\n",
    "    result = play_game()\r\n",
    "    draw_game(result)"
   ],
   "outputs": [],
   "metadata": {}
  },
  {
   "cell_type": "code",
   "execution_count": null,
   "source": [
    "# game.py\r\n",
    "# import the draw module\r\n",
    "if visual_mode:\r\n",
    "    # in visual mode, we draw using graphics\r\n",
    "    import draw_visual as draw\r\n",
    "else:\r\n",
    "    # in textual mode, we print out text\r\n",
    "    import draw_textual as draw\r\n",
    "\r\n",
    "def main():\r\n",
    "    result = play_game()\r\n",
    "    # this can either be visual or textual depending on visual_mode\r\n",
    "    draw.draw_game(result)"
   ],
   "outputs": [],
   "metadata": {}
  },
  {
   "cell_type": "code",
   "execution_count": null,
   "source": [
    "# draw.py\r\n",
    "\r\n",
    "def draw_game():\r\n",
    "    # when clearing the screen we can use the main screen object initialized in this module\r\n",
    "    clear_screen(main_screen)\r\n",
    "    ...\r\n",
    "\r\n",
    "def clear_screen(screen):\r\n",
    "    ...\r\n",
    "\r\n",
    "class Screen():\r\n",
    "    ...\r\n",
    "\r\n",
    "# initialize main_screen as a singleton\r\n",
    "main_screen = Screen()"
   ],
   "outputs": [],
   "metadata": {}
  },
  {
   "cell_type": "code",
   "execution_count": null,
   "source": [
    "PYTHONPATH=/foo python game.py"
   ],
   "outputs": [],
   "metadata": {}
  },
  {
   "cell_type": "code",
   "execution_count": null,
   "source": [
    "sys.path.append(\"/foo\")"
   ],
   "outputs": [],
   "metadata": {}
  },
  {
   "cell_type": "code",
   "execution_count": 206,
   "source": [
    ">>> import urllib\r\n",
    ">>> dir(urllib)\r\n",
    "['ContentTooShortError', 'FancyURLopener', 'MAXFTPCACHE', 'URLopener', '__all__', '__builtins__', \r\n",
    "'__doc__', '__file__', '__name__', '__package__', '__version__', '_ftperrors', '_get_proxies', \r\n",
    "'_get_proxy_settings', '_have_ssl', '_hexdig', '_hextochr', '_hostprog', '_is_unicode', '_localhost', \r\n",
    "'_noheaders', '_nportprog', '_passwdprog', '_portprog', '_queryprog', '_safe_map', '_safe_quoters', \r\n",
    "'_tagprog', '_thishost', '_typeprog', '_urlopener', '_userprog', '_valueprog', 'addbase', 'addclosehook', \r\n",
    "'addinfo', 'addinfourl', 'always_safe', 'basejoin', 'c', 'ftpcache', 'ftperrors', 'ftpwrapper', 'getproxies', \r\n",
    "'getproxies_environment', 'getproxies_macosx_sysconf', 'i', 'localhost', 'main', 'noheaders', 'os', \r\n",
    "'pathname2url', 'proxy_bypass', 'proxy_bypass_environment', 'proxy_bypass_macosx_sysconf', 'quote', \r\n",
    "'quote_plus', 'reporthook', 'socket', 'splitattr', 'splithost', 'splitnport', 'splitpasswd', 'splitport', \r\n",
    "'splitquery', 'splittag', 'splittype', 'splituser', 'splitvalue', 'ssl', 'string', 'sys', 'test', 'test1', \r\n",
    "'thishost', 'time', 'toBytes', 'unquote', 'unquote_plus', 'unwrap', 'url2pathname', 'urlcleanup', 'urlencode', \r\n",
    "'urlopen', 'urlretrieve']"
   ],
   "outputs": [
    {
     "output_type": "execute_result",
     "data": {
      "text/plain": [
       "['ContentTooShortError',\n",
       " 'FancyURLopener',\n",
       " 'MAXFTPCACHE',\n",
       " 'URLopener',\n",
       " '__all__',\n",
       " '__builtins__',\n",
       " '__doc__',\n",
       " '__file__',\n",
       " '__name__',\n",
       " '__package__',\n",
       " '__version__',\n",
       " '_ftperrors',\n",
       " '_get_proxies',\n",
       " '_get_proxy_settings',\n",
       " '_have_ssl',\n",
       " '_hexdig',\n",
       " '_hextochr',\n",
       " '_hostprog',\n",
       " '_is_unicode',\n",
       " '_localhost',\n",
       " '_noheaders',\n",
       " '_nportprog',\n",
       " '_passwdprog',\n",
       " '_portprog',\n",
       " '_queryprog',\n",
       " '_safe_map',\n",
       " '_safe_quoters',\n",
       " '_tagprog',\n",
       " '_thishost',\n",
       " '_typeprog',\n",
       " '_urlopener',\n",
       " '_userprog',\n",
       " '_valueprog',\n",
       " 'addbase',\n",
       " 'addclosehook',\n",
       " 'addinfo',\n",
       " 'addinfourl',\n",
       " 'always_safe',\n",
       " 'basejoin',\n",
       " 'c',\n",
       " 'ftpcache',\n",
       " 'ftperrors',\n",
       " 'ftpwrapper',\n",
       " 'getproxies',\n",
       " 'getproxies_environment',\n",
       " 'getproxies_macosx_sysconf',\n",
       " 'i',\n",
       " 'localhost',\n",
       " 'main',\n",
       " 'noheaders',\n",
       " 'os',\n",
       " 'pathname2url',\n",
       " 'proxy_bypass',\n",
       " 'proxy_bypass_environment',\n",
       " 'proxy_bypass_macosx_sysconf',\n",
       " 'quote',\n",
       " 'quote_plus',\n",
       " 'reporthook',\n",
       " 'socket',\n",
       " 'splitattr',\n",
       " 'splithost',\n",
       " 'splitnport',\n",
       " 'splitpasswd',\n",
       " 'splitport',\n",
       " 'splitquery',\n",
       " 'splittag',\n",
       " 'splittype',\n",
       " 'splituser',\n",
       " 'splitvalue',\n",
       " 'ssl',\n",
       " 'string',\n",
       " 'sys',\n",
       " 'test',\n",
       " 'test1',\n",
       " 'thishost',\n",
       " 'time',\n",
       " 'toBytes',\n",
       " 'unquote',\n",
       " 'unquote_plus',\n",
       " 'unwrap',\n",
       " 'url2pathname',\n",
       " 'urlcleanup',\n",
       " 'urlencode',\n",
       " 'urlopen',\n",
       " 'urlretrieve']"
      ]
     },
     "metadata": {},
     "execution_count": 206
    }
   ],
   "metadata": {}
  },
  {
   "cell_type": "code",
   "execution_count": null,
   "source": [
    "help(urllib.urlopen)"
   ],
   "outputs": [],
   "metadata": {}
  },
  {
   "cell_type": "code",
   "execution_count": 208,
   "source": [
    "import foo.bar"
   ],
   "outputs": [
    {
     "output_type": "error",
     "ename": "ModuleNotFoundError",
     "evalue": "No module named 'foo'",
     "traceback": [
      "\u001b[1;31m---------------------------------------------------------------------------\u001b[0m",
      "\u001b[1;31mModuleNotFoundError\u001b[0m                       Traceback (most recent call last)",
      "\u001b[1;32m~\\AppData\\Local\\Temp/ipykernel_22824/3779707741.py\u001b[0m in \u001b[0;36m<module>\u001b[1;34m\u001b[0m\n\u001b[1;32m----> 1\u001b[1;33m \u001b[1;32mimport\u001b[0m \u001b[0mfoo\u001b[0m\u001b[1;33m.\u001b[0m\u001b[0mbar\u001b[0m\u001b[1;33m\u001b[0m\u001b[1;33m\u001b[0m\u001b[0m\n\u001b[0m",
      "\u001b[1;31mModuleNotFoundError\u001b[0m: No module named 'foo'"
     ]
    }
   ],
   "metadata": {}
  },
  {
   "cell_type": "code",
   "execution_count": 209,
   "source": [
    "from foo import bar"
   ],
   "outputs": [
    {
     "output_type": "error",
     "ename": "ModuleNotFoundError",
     "evalue": "No module named 'foo'",
     "traceback": [
      "\u001b[1;31m---------------------------------------------------------------------------\u001b[0m",
      "\u001b[1;31mModuleNotFoundError\u001b[0m                       Traceback (most recent call last)",
      "\u001b[1;32m~\\AppData\\Local\\Temp/ipykernel_22824/3345160592.py\u001b[0m in \u001b[0;36m<module>\u001b[1;34m\u001b[0m\n\u001b[1;32m----> 1\u001b[1;33m \u001b[1;32mfrom\u001b[0m \u001b[0mfoo\u001b[0m \u001b[1;32mimport\u001b[0m \u001b[0mbar\u001b[0m\u001b[1;33m\u001b[0m\u001b[1;33m\u001b[0m\u001b[0m\n\u001b[0m",
      "\u001b[1;31mModuleNotFoundError\u001b[0m: No module named 'foo'"
     ]
    }
   ],
   "metadata": {}
  },
  {
   "cell_type": "code",
   "execution_count": null,
   "source": [
    "__init__.py:\r\n",
    "\r\n",
    "__all__ = [\"bar\"]"
   ],
   "outputs": [],
   "metadata": {}
  },
  {
   "cell_type": "code",
   "execution_count": 210,
   "source": [
    "import re\r\n",
    "\r\n",
    "find_members = []\r\n",
    "for member in dir(re):\r\n",
    "    if \"find\" in member:\r\n",
    "        find_members.append(member)\r\n",
    "\r\n",
    "print(sorted(find_members))"
   ],
   "outputs": [
    {
     "output_type": "stream",
     "name": "stdout",
     "text": [
      "['findall', 'finditer']\n"
     ]
    }
   ],
   "metadata": {}
  }
 ],
 "metadata": {
  "language_info": {
   "codemirror_mode": {
    "name": "ipython",
    "version": 3
   },
   "file_extension": ".py",
   "mimetype": "text/x-python",
   "name": "python",
   "nbconvert_exporter": "python",
   "pygments_lexer": "ipython3",
   "version": "3.9.6"
  },
  "orig_nbformat": 2,
  "kernelspec": {
   "name": "python3",
   "display_name": "Python 3.9.6 64-bit"
  },
  "interpreter": {
   "hash": "1f1d868c5ebeba30b699d07380689299e968a0c4beaa8abc7acec2d368d3dd67"
  }
 },
 "nbformat": 4,
 "nbformat_minor": 2
}